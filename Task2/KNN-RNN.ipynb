{
 "cells": [
  {
   "cell_type": "code",
   "execution_count": 2,
   "id": "1be563d0",
   "metadata": {},
   "outputs": [],
   "source": [
    "# Imports\n",
    "import numpy as np\n",
    "import pandas as pd\n",
    "import matplotlib.pyplot as plt\n",
    "%matplotlib inline"
   ]
  },
  {
   "cell_type": "code",
   "execution_count": 3,
   "id": "ce97e639",
   "metadata": {},
   "outputs": [
    {
     "data": {
      "text/html": [
       "<div>\n",
       "<style scoped>\n",
       "    .dataframe tbody tr th:only-of-type {\n",
       "        vertical-align: middle;\n",
       "    }\n",
       "\n",
       "    .dataframe tbody tr th {\n",
       "        vertical-align: top;\n",
       "    }\n",
       "\n",
       "    .dataframe thead th {\n",
       "        text-align: right;\n",
       "    }\n",
       "</style>\n",
       "<table border=\"1\" class=\"dataframe\">\n",
       "  <thead>\n",
       "    <tr style=\"text-align: right;\">\n",
       "      <th></th>\n",
       "      <th>id</th>\n",
       "      <th>diagnosis_result</th>\n",
       "      <th>radius</th>\n",
       "      <th>texture</th>\n",
       "      <th>perimeter</th>\n",
       "      <th>area</th>\n",
       "      <th>smoothness</th>\n",
       "      <th>compactness</th>\n",
       "      <th>symmetry</th>\n",
       "      <th>fractal_dimension</th>\n",
       "    </tr>\n",
       "  </thead>\n",
       "  <tbody>\n",
       "    <tr>\n",
       "      <th>0</th>\n",
       "      <td>1</td>\n",
       "      <td>M</td>\n",
       "      <td>23</td>\n",
       "      <td>12</td>\n",
       "      <td>151</td>\n",
       "      <td>954</td>\n",
       "      <td>0.143</td>\n",
       "      <td>0.278</td>\n",
       "      <td>0.242</td>\n",
       "      <td>0.079</td>\n",
       "    </tr>\n",
       "    <tr>\n",
       "      <th>1</th>\n",
       "      <td>2</td>\n",
       "      <td>B</td>\n",
       "      <td>9</td>\n",
       "      <td>13</td>\n",
       "      <td>133</td>\n",
       "      <td>1326</td>\n",
       "      <td>0.143</td>\n",
       "      <td>0.079</td>\n",
       "      <td>0.181</td>\n",
       "      <td>0.057</td>\n",
       "    </tr>\n",
       "    <tr>\n",
       "      <th>2</th>\n",
       "      <td>3</td>\n",
       "      <td>M</td>\n",
       "      <td>21</td>\n",
       "      <td>27</td>\n",
       "      <td>130</td>\n",
       "      <td>1203</td>\n",
       "      <td>0.125</td>\n",
       "      <td>0.160</td>\n",
       "      <td>0.207</td>\n",
       "      <td>0.060</td>\n",
       "    </tr>\n",
       "    <tr>\n",
       "      <th>3</th>\n",
       "      <td>4</td>\n",
       "      <td>M</td>\n",
       "      <td>14</td>\n",
       "      <td>16</td>\n",
       "      <td>78</td>\n",
       "      <td>386</td>\n",
       "      <td>0.070</td>\n",
       "      <td>0.284</td>\n",
       "      <td>0.260</td>\n",
       "      <td>0.097</td>\n",
       "    </tr>\n",
       "    <tr>\n",
       "      <th>4</th>\n",
       "      <td>5</td>\n",
       "      <td>M</td>\n",
       "      <td>9</td>\n",
       "      <td>19</td>\n",
       "      <td>135</td>\n",
       "      <td>1297</td>\n",
       "      <td>0.141</td>\n",
       "      <td>0.133</td>\n",
       "      <td>0.181</td>\n",
       "      <td>0.059</td>\n",
       "    </tr>\n",
       "  </tbody>\n",
       "</table>\n",
       "</div>"
      ],
      "text/plain": [
       "   id diagnosis_result  radius  texture  perimeter  area  smoothness  \\\n",
       "0   1                M      23       12        151   954       0.143   \n",
       "1   2                B       9       13        133  1326       0.143   \n",
       "2   3                M      21       27        130  1203       0.125   \n",
       "3   4                M      14       16         78   386       0.070   \n",
       "4   5                M       9       19        135  1297       0.141   \n",
       "\n",
       "   compactness  symmetry  fractal_dimension  \n",
       "0        0.278     0.242              0.079  \n",
       "1        0.079     0.181              0.057  \n",
       "2        0.160     0.207              0.060  \n",
       "3        0.284     0.260              0.097  \n",
       "4        0.133     0.181              0.059  "
      ]
     },
     "execution_count": 3,
     "metadata": {},
     "output_type": "execute_result"
    }
   ],
   "source": [
    "# # Read data into a dataframe\n",
    "df = pd.read_csv(\"Prostate_Cancer.csv\")\n",
    "\n",
    "# View a sample of the data\n",
    "df.head()"
   ]
  },
  {
   "cell_type": "markdown",
   "id": "7a6bff42",
   "metadata": {},
   "source": [
    "### Data pre-processing"
   ]
  },
  {
   "cell_type": "code",
   "execution_count": 4,
   "id": "707a7b73",
   "metadata": {},
   "outputs": [
    {
     "data": {
      "text/plain": [
       "id                     int64\n",
       "diagnosis_result      object\n",
       "radius                 int64\n",
       "texture                int64\n",
       "perimeter              int64\n",
       "area                   int64\n",
       "smoothness           float64\n",
       "compactness          float64\n",
       "symmetry             float64\n",
       "fractal_dimension    float64\n",
       "dtype: object"
      ]
     },
     "execution_count": 4,
     "metadata": {},
     "output_type": "execute_result"
    }
   ],
   "source": [
    "# Find data type in each column\n",
    "df.dtypes"
   ]
  },
  {
   "cell_type": "code",
   "execution_count": 5,
   "id": "97b09c68",
   "metadata": {},
   "outputs": [
    {
     "data": {
      "text/html": [
       "<div>\n",
       "<style scoped>\n",
       "    .dataframe tbody tr th:only-of-type {\n",
       "        vertical-align: middle;\n",
       "    }\n",
       "\n",
       "    .dataframe tbody tr th {\n",
       "        vertical-align: top;\n",
       "    }\n",
       "\n",
       "    .dataframe thead th {\n",
       "        text-align: right;\n",
       "    }\n",
       "</style>\n",
       "<table border=\"1\" class=\"dataframe\">\n",
       "  <thead>\n",
       "    <tr style=\"text-align: right;\">\n",
       "      <th></th>\n",
       "      <th>id</th>\n",
       "      <th>radius</th>\n",
       "      <th>texture</th>\n",
       "      <th>perimeter</th>\n",
       "      <th>area</th>\n",
       "      <th>smoothness</th>\n",
       "      <th>compactness</th>\n",
       "      <th>symmetry</th>\n",
       "      <th>fractal_dimension</th>\n",
       "      <th>diagnosis_result_M</th>\n",
       "    </tr>\n",
       "  </thead>\n",
       "  <tbody>\n",
       "    <tr>\n",
       "      <th>0</th>\n",
       "      <td>1</td>\n",
       "      <td>23</td>\n",
       "      <td>12</td>\n",
       "      <td>151</td>\n",
       "      <td>954</td>\n",
       "      <td>0.143</td>\n",
       "      <td>0.278</td>\n",
       "      <td>0.242</td>\n",
       "      <td>0.079</td>\n",
       "      <td>True</td>\n",
       "    </tr>\n",
       "    <tr>\n",
       "      <th>1</th>\n",
       "      <td>2</td>\n",
       "      <td>9</td>\n",
       "      <td>13</td>\n",
       "      <td>133</td>\n",
       "      <td>1326</td>\n",
       "      <td>0.143</td>\n",
       "      <td>0.079</td>\n",
       "      <td>0.181</td>\n",
       "      <td>0.057</td>\n",
       "      <td>False</td>\n",
       "    </tr>\n",
       "    <tr>\n",
       "      <th>2</th>\n",
       "      <td>3</td>\n",
       "      <td>21</td>\n",
       "      <td>27</td>\n",
       "      <td>130</td>\n",
       "      <td>1203</td>\n",
       "      <td>0.125</td>\n",
       "      <td>0.160</td>\n",
       "      <td>0.207</td>\n",
       "      <td>0.060</td>\n",
       "      <td>True</td>\n",
       "    </tr>\n",
       "    <tr>\n",
       "      <th>3</th>\n",
       "      <td>4</td>\n",
       "      <td>14</td>\n",
       "      <td>16</td>\n",
       "      <td>78</td>\n",
       "      <td>386</td>\n",
       "      <td>0.070</td>\n",
       "      <td>0.284</td>\n",
       "      <td>0.260</td>\n",
       "      <td>0.097</td>\n",
       "      <td>True</td>\n",
       "    </tr>\n",
       "    <tr>\n",
       "      <th>4</th>\n",
       "      <td>5</td>\n",
       "      <td>9</td>\n",
       "      <td>19</td>\n",
       "      <td>135</td>\n",
       "      <td>1297</td>\n",
       "      <td>0.141</td>\n",
       "      <td>0.133</td>\n",
       "      <td>0.181</td>\n",
       "      <td>0.059</td>\n",
       "      <td>True</td>\n",
       "    </tr>\n",
       "  </tbody>\n",
       "</table>\n",
       "</div>"
      ],
      "text/plain": [
       "   id  radius  texture  perimeter  area  smoothness  compactness  symmetry  \\\n",
       "0   1      23       12        151   954       0.143        0.278     0.242   \n",
       "1   2       9       13        133  1326       0.143        0.079     0.181   \n",
       "2   3      21       27        130  1203       0.125        0.160     0.207   \n",
       "3   4      14       16         78   386       0.070        0.284     0.260   \n",
       "4   5       9       19        135  1297       0.141        0.133     0.181   \n",
       "\n",
       "   fractal_dimension  diagnosis_result_M  \n",
       "0              0.079                True  \n",
       "1              0.057               False  \n",
       "2              0.060                True  \n",
       "3              0.097                True  \n",
       "4              0.059                True  "
      ]
     },
     "execution_count": 5,
     "metadata": {},
     "output_type": "execute_result"
    }
   ],
   "source": [
    "# Convert categorical data into numeric\n",
    "df = pd.get_dummies(data=df, columns=['diagnosis_result'], drop_first=True)\n",
    "df.head()"
   ]
  },
  {
   "cell_type": "code",
   "execution_count": 6,
   "id": "288e88be",
   "metadata": {},
   "outputs": [
    {
     "data": {
      "text/plain": [
       "id                   -0.316889\n",
       "radius               -0.176967\n",
       "texture               0.070735\n",
       "perimeter             0.607498\n",
       "area                  0.562444\n",
       "smoothness            0.197616\n",
       "compactness           0.512234\n",
       "symmetry              0.233028\n",
       "fractal_dimension     0.008180\n",
       "diagnosis_result_M    1.000000\n",
       "Name: diagnosis_result_M, dtype: float64"
      ]
     },
     "execution_count": 6,
     "metadata": {},
     "output_type": "execute_result"
    }
   ],
   "source": [
    "# View correlation between diagnosis_result_M and other columns\n",
    "corr_matrix = df.corr()\n",
    "corr_matrix['diagnosis_result_M']"
   ]
  },
  {
   "cell_type": "code",
   "execution_count": 7,
   "id": "674c2c41",
   "metadata": {},
   "outputs": [
    {
     "data": {
      "text/html": [
       "<div>\n",
       "<style scoped>\n",
       "    .dataframe tbody tr th:only-of-type {\n",
       "        vertical-align: middle;\n",
       "    }\n",
       "\n",
       "    .dataframe tbody tr th {\n",
       "        vertical-align: top;\n",
       "    }\n",
       "\n",
       "    .dataframe thead th {\n",
       "        text-align: right;\n",
       "    }\n",
       "</style>\n",
       "<table border=\"1\" class=\"dataframe\">\n",
       "  <thead>\n",
       "    <tr style=\"text-align: right;\">\n",
       "      <th></th>\n",
       "      <th>radius</th>\n",
       "      <th>perimeter</th>\n",
       "      <th>area</th>\n",
       "      <th>smoothness</th>\n",
       "      <th>compactness</th>\n",
       "      <th>symmetry</th>\n",
       "      <th>diagnosis_result_M</th>\n",
       "    </tr>\n",
       "  </thead>\n",
       "  <tbody>\n",
       "    <tr>\n",
       "      <th>0</th>\n",
       "      <td>23</td>\n",
       "      <td>151</td>\n",
       "      <td>954</td>\n",
       "      <td>0.143</td>\n",
       "      <td>0.278</td>\n",
       "      <td>0.242</td>\n",
       "      <td>True</td>\n",
       "    </tr>\n",
       "    <tr>\n",
       "      <th>1</th>\n",
       "      <td>9</td>\n",
       "      <td>133</td>\n",
       "      <td>1326</td>\n",
       "      <td>0.143</td>\n",
       "      <td>0.079</td>\n",
       "      <td>0.181</td>\n",
       "      <td>False</td>\n",
       "    </tr>\n",
       "    <tr>\n",
       "      <th>2</th>\n",
       "      <td>21</td>\n",
       "      <td>130</td>\n",
       "      <td>1203</td>\n",
       "      <td>0.125</td>\n",
       "      <td>0.160</td>\n",
       "      <td>0.207</td>\n",
       "      <td>True</td>\n",
       "    </tr>\n",
       "    <tr>\n",
       "      <th>3</th>\n",
       "      <td>14</td>\n",
       "      <td>78</td>\n",
       "      <td>386</td>\n",
       "      <td>0.070</td>\n",
       "      <td>0.284</td>\n",
       "      <td>0.260</td>\n",
       "      <td>True</td>\n",
       "    </tr>\n",
       "    <tr>\n",
       "      <th>4</th>\n",
       "      <td>9</td>\n",
       "      <td>135</td>\n",
       "      <td>1297</td>\n",
       "      <td>0.141</td>\n",
       "      <td>0.133</td>\n",
       "      <td>0.181</td>\n",
       "      <td>True</td>\n",
       "    </tr>\n",
       "  </tbody>\n",
       "</table>\n",
       "</div>"
      ],
      "text/plain": [
       "   radius  perimeter  area  smoothness  compactness  symmetry  \\\n",
       "0      23        151   954       0.143        0.278     0.242   \n",
       "1       9        133  1326       0.143        0.079     0.181   \n",
       "2      21        130  1203       0.125        0.160     0.207   \n",
       "3      14         78   386       0.070        0.284     0.260   \n",
       "4       9        135  1297       0.141        0.133     0.181   \n",
       "\n",
       "   diagnosis_result_M  \n",
       "0                True  \n",
       "1               False  \n",
       "2                True  \n",
       "3                True  \n",
       "4                True  "
      ]
     },
     "execution_count": 7,
     "metadata": {},
     "output_type": "execute_result"
    }
   ],
   "source": [
    "# Data with correlation absolute values less than 0.1 can be considered insignificant and so they can be dropped\n",
    "# id column showed a somewhat high correlation value with the diagnosis result, but we know that it's irrelevant, so we drop it\n",
    "df.drop(['texture', 'fractal_dimension', 'id'], axis=1, inplace=True)\n",
    "df.head()"
   ]
  },
  {
   "cell_type": "code",
   "execution_count": 8,
   "id": "85b398f9",
   "metadata": {},
   "outputs": [
    {
     "data": {
      "text/plain": [
       "radius                0\n",
       "perimeter             0\n",
       "area                  0\n",
       "smoothness            0\n",
       "compactness           0\n",
       "symmetry              0\n",
       "diagnosis_result_M    0\n",
       "dtype: int64"
      ]
     },
     "execution_count": 8,
     "metadata": {},
     "output_type": "execute_result"
    }
   ],
   "source": [
    "# Check for missing data\n",
    "df.isnull().sum()"
   ]
  },
  {
   "cell_type": "code",
   "execution_count": 9,
   "id": "273d1d32",
   "metadata": {},
   "outputs": [
    {
     "data": {
      "text/html": [
       "<div>\n",
       "<style scoped>\n",
       "    .dataframe tbody tr th:only-of-type {\n",
       "        vertical-align: middle;\n",
       "    }\n",
       "\n",
       "    .dataframe tbody tr th {\n",
       "        vertical-align: top;\n",
       "    }\n",
       "\n",
       "    .dataframe thead th {\n",
       "        text-align: right;\n",
       "    }\n",
       "</style>\n",
       "<table border=\"1\" class=\"dataframe\">\n",
       "  <thead>\n",
       "    <tr style=\"text-align: right;\">\n",
       "      <th></th>\n",
       "      <th>radius</th>\n",
       "      <th>perimeter</th>\n",
       "      <th>area</th>\n",
       "      <th>smoothness</th>\n",
       "      <th>compactness</th>\n",
       "      <th>symmetry</th>\n",
       "    </tr>\n",
       "  </thead>\n",
       "  <tbody>\n",
       "    <tr>\n",
       "      <th>count</th>\n",
       "      <td>100.000000</td>\n",
       "      <td>100.000000</td>\n",
       "      <td>100.000000</td>\n",
       "      <td>100.000000</td>\n",
       "      <td>100.000000</td>\n",
       "      <td>100.000000</td>\n",
       "    </tr>\n",
       "    <tr>\n",
       "      <th>mean</th>\n",
       "      <td>16.850000</td>\n",
       "      <td>96.780000</td>\n",
       "      <td>702.880000</td>\n",
       "      <td>0.102730</td>\n",
       "      <td>0.126700</td>\n",
       "      <td>0.193170</td>\n",
       "    </tr>\n",
       "    <tr>\n",
       "      <th>std</th>\n",
       "      <td>4.879094</td>\n",
       "      <td>23.676089</td>\n",
       "      <td>319.710895</td>\n",
       "      <td>0.014642</td>\n",
       "      <td>0.061144</td>\n",
       "      <td>0.030785</td>\n",
       "    </tr>\n",
       "    <tr>\n",
       "      <th>min</th>\n",
       "      <td>9.000000</td>\n",
       "      <td>52.000000</td>\n",
       "      <td>202.000000</td>\n",
       "      <td>0.070000</td>\n",
       "      <td>0.038000</td>\n",
       "      <td>0.135000</td>\n",
       "    </tr>\n",
       "    <tr>\n",
       "      <th>25%</th>\n",
       "      <td>12.000000</td>\n",
       "      <td>82.500000</td>\n",
       "      <td>476.750000</td>\n",
       "      <td>0.093500</td>\n",
       "      <td>0.080500</td>\n",
       "      <td>0.172000</td>\n",
       "    </tr>\n",
       "    <tr>\n",
       "      <th>50%</th>\n",
       "      <td>17.000000</td>\n",
       "      <td>94.000000</td>\n",
       "      <td>644.000000</td>\n",
       "      <td>0.102000</td>\n",
       "      <td>0.118500</td>\n",
       "      <td>0.190000</td>\n",
       "    </tr>\n",
       "    <tr>\n",
       "      <th>75%</th>\n",
       "      <td>21.000000</td>\n",
       "      <td>114.250000</td>\n",
       "      <td>917.000000</td>\n",
       "      <td>0.112000</td>\n",
       "      <td>0.157000</td>\n",
       "      <td>0.209000</td>\n",
       "    </tr>\n",
       "    <tr>\n",
       "      <th>max</th>\n",
       "      <td>25.000000</td>\n",
       "      <td>172.000000</td>\n",
       "      <td>1878.000000</td>\n",
       "      <td>0.143000</td>\n",
       "      <td>0.345000</td>\n",
       "      <td>0.304000</td>\n",
       "    </tr>\n",
       "  </tbody>\n",
       "</table>\n",
       "</div>"
      ],
      "text/plain": [
       "           radius   perimeter         area  smoothness  compactness  \\\n",
       "count  100.000000  100.000000   100.000000  100.000000   100.000000   \n",
       "mean    16.850000   96.780000   702.880000    0.102730     0.126700   \n",
       "std      4.879094   23.676089   319.710895    0.014642     0.061144   \n",
       "min      9.000000   52.000000   202.000000    0.070000     0.038000   \n",
       "25%     12.000000   82.500000   476.750000    0.093500     0.080500   \n",
       "50%     17.000000   94.000000   644.000000    0.102000     0.118500   \n",
       "75%     21.000000  114.250000   917.000000    0.112000     0.157000   \n",
       "max     25.000000  172.000000  1878.000000    0.143000     0.345000   \n",
       "\n",
       "         symmetry  \n",
       "count  100.000000  \n",
       "mean     0.193170  \n",
       "std      0.030785  \n",
       "min      0.135000  \n",
       "25%      0.172000  \n",
       "50%      0.190000  \n",
       "75%      0.209000  \n",
       "max      0.304000  "
      ]
     },
     "execution_count": 9,
     "metadata": {},
     "output_type": "execute_result"
    }
   ],
   "source": [
    "df.describe()"
   ]
  },
  {
   "cell_type": "markdown",
   "id": "0afef890",
   "metadata": {},
   "source": [
    "#### Split data into x,y where x has the features and y has the target"
   ]
  },
  {
   "cell_type": "code",
   "execution_count": 10,
   "id": "776c26eb",
   "metadata": {},
   "outputs": [
    {
     "data": {
      "text/html": [
       "<div>\n",
       "<style scoped>\n",
       "    .dataframe tbody tr th:only-of-type {\n",
       "        vertical-align: middle;\n",
       "    }\n",
       "\n",
       "    .dataframe tbody tr th {\n",
       "        vertical-align: top;\n",
       "    }\n",
       "\n",
       "    .dataframe thead th {\n",
       "        text-align: right;\n",
       "    }\n",
       "</style>\n",
       "<table border=\"1\" class=\"dataframe\">\n",
       "  <thead>\n",
       "    <tr style=\"text-align: right;\">\n",
       "      <th></th>\n",
       "      <th>radius</th>\n",
       "      <th>perimeter</th>\n",
       "      <th>area</th>\n",
       "      <th>smoothness</th>\n",
       "      <th>compactness</th>\n",
       "      <th>symmetry</th>\n",
       "    </tr>\n",
       "  </thead>\n",
       "  <tbody>\n",
       "    <tr>\n",
       "      <th>0</th>\n",
       "      <td>23</td>\n",
       "      <td>151</td>\n",
       "      <td>954</td>\n",
       "      <td>0.143</td>\n",
       "      <td>0.278</td>\n",
       "      <td>0.242</td>\n",
       "    </tr>\n",
       "    <tr>\n",
       "      <th>1</th>\n",
       "      <td>9</td>\n",
       "      <td>133</td>\n",
       "      <td>1326</td>\n",
       "      <td>0.143</td>\n",
       "      <td>0.079</td>\n",
       "      <td>0.181</td>\n",
       "    </tr>\n",
       "    <tr>\n",
       "      <th>2</th>\n",
       "      <td>21</td>\n",
       "      <td>130</td>\n",
       "      <td>1203</td>\n",
       "      <td>0.125</td>\n",
       "      <td>0.160</td>\n",
       "      <td>0.207</td>\n",
       "    </tr>\n",
       "    <tr>\n",
       "      <th>3</th>\n",
       "      <td>14</td>\n",
       "      <td>78</td>\n",
       "      <td>386</td>\n",
       "      <td>0.070</td>\n",
       "      <td>0.284</td>\n",
       "      <td>0.260</td>\n",
       "    </tr>\n",
       "    <tr>\n",
       "      <th>4</th>\n",
       "      <td>9</td>\n",
       "      <td>135</td>\n",
       "      <td>1297</td>\n",
       "      <td>0.141</td>\n",
       "      <td>0.133</td>\n",
       "      <td>0.181</td>\n",
       "    </tr>\n",
       "  </tbody>\n",
       "</table>\n",
       "</div>"
      ],
      "text/plain": [
       "   radius  perimeter  area  smoothness  compactness  symmetry\n",
       "0      23        151   954       0.143        0.278     0.242\n",
       "1       9        133  1326       0.143        0.079     0.181\n",
       "2      21        130  1203       0.125        0.160     0.207\n",
       "3      14         78   386       0.070        0.284     0.260\n",
       "4       9        135  1297       0.141        0.133     0.181"
      ]
     },
     "execution_count": 10,
     "metadata": {},
     "output_type": "execute_result"
    }
   ],
   "source": [
    "x = df.drop(['diagnosis_result_M'], axis=1)\n",
    "x.head()"
   ]
  },
  {
   "cell_type": "code",
   "execution_count": 11,
   "id": "2a28a38d",
   "metadata": {},
   "outputs": [
    {
     "data": {
      "text/plain": [
       "0     True\n",
       "1    False\n",
       "2     True\n",
       "3     True\n",
       "4     True\n",
       "Name: diagnosis_result_M, dtype: bool"
      ]
     },
     "execution_count": 11,
     "metadata": {},
     "output_type": "execute_result"
    }
   ],
   "source": [
    "y = df['diagnosis_result_M']\n",
    "y.head()"
   ]
  },
  {
   "cell_type": "markdown",
   "id": "52c86df6",
   "metadata": {},
   "source": [
    "#### Box plot to check for outliers in each column"
   ]
  },
  {
   "cell_type": "code",
   "execution_count": 12,
   "id": "81e5575b",
   "metadata": {},
   "outputs": [
    {
     "data": {
      "image/png": "[encoded data removed]",
      "text/plain": [
       "<Figure size 640x480 with 1 Axes>"
      ]
     },
     "metadata": {},
     "output_type": "display_data"
    },
    {
     "data": {
      "image/png": "[encoded data removed]",
      "text/plain": [
       "<Figure size 640x480 with 1 Axes>"
      ]
     },
     "metadata": {},
     "output_type": "display_data"
    },
    {
     "data": {
      "image/png": "[encoded data removed]",
      "text/plain": [
       "<Figure size 640x480 with 1 Axes>"
      ]
     },
     "metadata": {},
     "output_type": "display_data"
    },
    {
     "data": {
      "image/png": "[encoded data removed]",
      "text/plain": [
       "<Figure size 640x480 with 1 Axes>"
      ]
     },
     "metadata": {},
     "output_type": "display_data"
    },
    {
     "data": {
      "image/png": "[encoded data removed]",
      "text/plain": [
       "<Figure size 640x480 with 1 Axes>"
      ]
     },
     "metadata": {},
     "output_type": "display_data"
    },
    {
     "data": {
      "image/png": "[encoded data removed]",
      "text/plain": [
       "<Figure size 640x480 with 1 Axes>"
      ]
     },
     "metadata": {},
     "output_type": "display_data"
    }
   ],
   "source": [
    "# Plot radius\n",
    "plt.boxplot(x[\"radius\"])\n",
    "plt.title(\"Radius\")\n",
    "plt.show()\n",
    "\n",
    "# Plot perimeter\n",
    "plt.boxplot(x[\"perimeter\"])\n",
    "plt.title(\"Perimeter\")\n",
    "plt.show()\n",
    "\n",
    "# Plot area\n",
    "plt.boxplot(x[\"area\"])\n",
    "plt.title(\"Area\")\n",
    "plt.show()\n",
    "\n",
    "# Plot smoothness\n",
    "plt.boxplot(x[\"smoothness\"])\n",
    "plt.title(\"Smoothness\")\n",
    "plt.show()\n",
    "\n",
    "# Plot compactness\n",
    "plt.boxplot(x[\"compactness\"])\n",
    "plt.title(\"Compactness\")\n",
    "plt.show()\n",
    "\n",
    "# Plot symmetry\n",
    "plt.boxplot(x[\"symmetry\"])\n",
    "plt.title(\"Symmetry\")\n",
    "plt.show()"
   ]
  },
  {
   "cell_type": "markdown",
   "id": "9d8b1122",
   "metadata": {},
   "source": [
    "We notice from the plots that the radius column has no outliers, and all the other columns have only larger outliers, which means that lower limits will not be needed in IQR function "
   ]
  },
  {
   "cell_type": "markdown",
   "id": "734da6cf",
   "metadata": {},
   "source": [
    "#### Detect outliers using IQR"
   ]
  },
  {
   "cell_type": "code",
   "execution_count": 13,
   "id": "1b6cedbc",
   "metadata": {},
   "outputs": [],
   "source": [
    "def detect_upper_limit(data):\n",
    "    Q1 = data.quantile(0.25)\n",
    "    Q3 = data.quantile(0.75)\n",
    "    \n",
    "    IQR = Q3 - Q1\n",
    "    upper_limit = Q3 + 1.5 * IQR\n",
    "    \n",
    "    return upper_limit"
   ]
  },
  {
   "cell_type": "code",
   "execution_count": 14,
   "id": "a2cc187f",
   "metadata": {},
   "outputs": [
    {
     "data": {
      "text/plain": [
       "161.875"
      ]
     },
     "execution_count": 14,
     "metadata": {},
     "output_type": "execute_result"
    }
   ],
   "source": [
    "limit_perimeter = detect_upper_limit(x.perimeter)\n",
    "limit_perimeter"
   ]
  },
  {
   "cell_type": "code",
   "execution_count": 15,
   "id": "1fc56c9c",
   "metadata": {},
   "outputs": [
    {
     "data": {
      "text/plain": [
       "1577.375"
      ]
     },
     "execution_count": 15,
     "metadata": {},
     "output_type": "execute_result"
    }
   ],
   "source": [
    "limit_area = detect_upper_limit(x.area)\n",
    "limit_area"
   ]
  },
  {
   "cell_type": "code",
   "execution_count": 16,
   "id": "730639d6",
   "metadata": {},
   "outputs": [
    {
     "data": {
      "text/plain": [
       "0.13975"
      ]
     },
     "execution_count": 16,
     "metadata": {},
     "output_type": "execute_result"
    }
   ],
   "source": [
    "limit_smoothness = detect_upper_limit(x.smoothness)\n",
    "limit_smoothness"
   ]
  },
  {
   "cell_type": "code",
   "execution_count": 17,
   "id": "09050453",
   "metadata": {},
   "outputs": [
    {
     "data": {
      "text/plain": [
       "0.27175"
      ]
     },
     "execution_count": 17,
     "metadata": {},
     "output_type": "execute_result"
    }
   ],
   "source": [
    "limit_compactness = detect_upper_limit(x.compactness)\n",
    "limit_compactness"
   ]
  },
  {
   "cell_type": "code",
   "execution_count": 18,
   "id": "71ec6abe",
   "metadata": {},
   "outputs": [
    {
     "data": {
      "text/plain": [
       "0.2645"
      ]
     },
     "execution_count": 18,
     "metadata": {},
     "output_type": "execute_result"
    }
   ],
   "source": [
    "limit_symmetry = detect_upper_limit(x.symmetry)\n",
    "limit_symmetry"
   ]
  },
  {
   "cell_type": "code",
   "execution_count": 19,
   "id": "f87ebc30",
   "metadata": {},
   "outputs": [],
   "source": [
    "# A function that replaces outliers with median values\n",
    "def replace_outliers(data, limit):\n",
    "    for value in data:\n",
    "        if (value > limit):\n",
    "            data = data.replace([value], data.median())\n",
    "        \n",
    "    return data"
   ]
  },
  {
   "cell_type": "code",
   "execution_count": 20,
   "id": "05f0f6bd",
   "metadata": {},
   "outputs": [],
   "source": [
    "# Apply replace function to all columns with outliers\n",
    "x.perimeter = replace_outliers(x.perimeter, limit_perimeter)\n",
    "x.area = replace_outliers(x.area, limit_area)\n",
    "x.smoothness = replace_outliers(x.smoothness, limit_smoothness)\n",
    "x.compactness = replace_outliers(x.compactness, limit_compactness)\n",
    "x.symmetry = replace_outliers(x.symmetry, limit_symmetry)"
   ]
  },
  {
   "cell_type": "code",
   "execution_count": 21,
   "id": "7e50ddfb",
   "metadata": {},
   "outputs": [
    {
     "data": {
      "image/png": "[encoded data removed]",
      "text/plain": [
       "<Figure size 640x480 with 1 Axes>"
      ]
     },
     "metadata": {},
     "output_type": "display_data"
    },
    {
     "data": {
      "text/plain": [
       "(None,\n",
       "    radius  perimeter      area  smoothness  compactness  symmetry\n",
       " 0  0.8750   1.000000  0.625624    0.542373     0.351528     0.856\n",
       " 1  0.0000   0.818182  0.935108    0.542373     0.179039     0.368\n",
       " 2  0.7500   0.787879  0.832779    0.932203     0.532751     0.576\n",
       " 3  0.3125   0.262626  0.153078    0.000000     0.346070     1.000\n",
       " 4  0.0000   0.838384  0.910982    0.542373     0.414847     0.368)"
      ]
     },
     "execution_count": 21,
     "metadata": {},
     "output_type": "execute_result"
    }
   ],
   "source": [
    "# Normalize the data\n",
    "x = (x - x.min()) / (x.max() - x.min())\n",
    "plt.boxplot(x)\n",
    "plt.show(), x.head()"
   ]
  },
  {
   "cell_type": "code",
   "execution_count": 22,
   "id": "b5d01778",
   "metadata": {},
   "outputs": [],
   "source": [
    "# Split the dataset into a training set (80%) and a testing set (20%)\n",
    "from sklearn.model_selection import train_test_split\n",
    "x_train, x_test, y_train, y_test = train_test_split(x, y, test_size=0.2, random_state=2)"
   ]
  },
  {
   "cell_type": "code",
   "execution_count": 23,
   "id": "3cd8a194",
   "metadata": {},
   "outputs": [
    {
     "data": {
      "text/plain": [
       "[True,\n",
       " True,\n",
       " True,\n",
       " True,\n",
       " True,\n",
       " True,\n",
       " True,\n",
       " True,\n",
       " True,\n",
       " True,\n",
       " True,\n",
       " False,\n",
       " False,\n",
       " True,\n",
       " True,\n",
       " False,\n",
       " True,\n",
       " True,\n",
       " False,\n",
       " False]"
      ]
     },
     "execution_count": 23,
     "metadata": {},
     "output_type": "execute_result"
    }
   ],
   "source": [
    "y_test.tolist()"
   ]
  },
  {
   "cell_type": "markdown",
   "id": "4d595f09",
   "metadata": {},
   "source": [
    "### KNN using Scikit-learn"
   ]
  },
  {
   "cell_type": "code",
   "execution_count": 24,
   "id": "454cf9b5",
   "metadata": {},
   "outputs": [],
   "source": [
    "# Build the model\n",
    "from sklearn.neighbors import KNeighborsClassifier\n",
    "knn = KNeighborsClassifier(n_neighbors=5)\n",
    "knn.fit(x_train, y_train)\n",
    "y_pred = knn.predict(x_test)"
   ]
  },
  {
   "cell_type": "code",
   "execution_count": 25,
   "id": "4f205827",
   "metadata": {},
   "outputs": [
    {
     "data": {
      "text/plain": [
       "array([ True,  True,  True,  True,  True,  True,  True,  True,  True,\n",
       "        True,  True, False,  True,  True,  True, False, False,  True,\n",
       "       False, False])"
      ]
     },
     "execution_count": 25,
     "metadata": {},
     "output_type": "execute_result"
    }
   ],
   "source": [
    "y_pred"
   ]
  },
  {
   "cell_type": "code",
   "execution_count": 26,
   "id": "41975831",
   "metadata": {},
   "outputs": [
    {
     "name": "stdout",
     "output_type": "stream",
     "text": [
      "Confusion Matrix:\n",
      "[[ 4  1]\n",
      " [ 1 14]]\n",
      "\n",
      "Accuracy: 0.9\n",
      "\n",
      "Sensitivity: 0.9333333333333333\n",
      "\n",
      "Specificity: 0.8\n"
     ]
    }
   ],
   "source": [
    "# Confusion matrix and model efficiency\n",
    "from sklearn.metrics import confusion_matrix\n",
    "\n",
    "print(\"Confusion Matrix:\")\n",
    "cm = confusion_matrix(y_test, y_pred)\n",
    "print(cm)\n",
    "\n",
    "Accuracy = (cm[0,0]+ cm[1,1])/ (cm[0,0]+ cm[0,1] + cm[1,0]+ cm[1,1])\n",
    "print(\"\\nAccuracy: \" + str(Accuracy)) # accuracy as a metric\n",
    "\n",
    "Sensitivity = cm[1,1]/(cm[1,1] + cm[0,1])\n",
    "print(\"\\nSensitivity: \" + str(Sensitivity)) \n",
    "\n",
    "Specificity = cm[0,0]/(cm[0,0] + cm[1,0])\n",
    "print(\"\\nSpecificity: \" + str(Specificity))"
   ]
  },
  {
   "cell_type": "markdown",
   "id": "25b3ff57",
   "metadata": {},
   "source": [
    "### KNN using Python from scratch"
   ]
  },
  {
   "cell_type": "code",
   "execution_count": 27,
   "id": "77b73c95",
   "metadata": {},
   "outputs": [],
   "source": [
    "def euclidean_distance(x1, x2):\n",
    "    return np.sqrt(np.sum((x1 - x2) ** 2))\n",
    "\n",
    "def knn_predict(X_train, y_train, X_test, k):\n",
    "    y_pred = []\n",
    "    for i in range(len(X_test)):\n",
    "        distances = []\n",
    "        for j in range(len(X_train)):\n",
    "            dist = euclidean_distance(X_test.iloc[i], X_train.iloc[j])\n",
    "            distances.append((dist, y_train.iloc[j]))\n",
    "        \n",
    "        # Sort based on the first element (the distance)\n",
    "        distances.sort(key=lambda x: x[0])\n",
    "        \n",
    "        k_nearest_labels = [label for (value, label) in distances[:k]]\n",
    "        most_common = max(set(k_nearest_labels), key=k_nearest_labels.count)\n",
    "        y_pred.append(most_common)\n",
    "    return y_pred"
   ]
  },
  {
   "cell_type": "markdown",
   "id": "b7358d8b",
   "metadata": {},
   "source": [
    "This implementation calculates the Euclidean distance between each test data point and all training data points, sorts them in ascending order, selects the k nearest neighbors, and predicts the label based on the majority vote. The predicted labels are stored in the predictions list."
   ]
  },
  {
   "cell_type": "code",
   "execution_count": 28,
   "id": "a486326e",
   "metadata": {},
   "outputs": [
    {
     "data": {
      "text/plain": [
       "[True,\n",
       " True,\n",
       " True,\n",
       " True,\n",
       " True,\n",
       " True,\n",
       " True,\n",
       " True,\n",
       " True,\n",
       " True,\n",
       " True,\n",
       " False,\n",
       " True,\n",
       " True,\n",
       " True,\n",
       " False,\n",
       " False,\n",
       " True,\n",
       " False,\n",
       " False]"
      ]
     },
     "execution_count": 28,
     "metadata": {},
     "output_type": "execute_result"
    }
   ],
   "source": [
    "y_pred2 = knn_predict(x_train, y_train, x_test, 5)\n",
    "y_pred2"
   ]
  },
  {
   "cell_type": "code",
   "execution_count": 29,
   "id": "7b122d9e",
   "metadata": {},
   "outputs": [],
   "source": [
    "# Confusion matrix from scratch\n",
    "def confusion_scratch(y_test, y_pred):\n",
    "    \n",
    "    # Initialize counters\n",
    "    count_00, count_01, count_10, count_11 = 0, 0, 0, 0\n",
    "    \n",
    "    for i in range(len(y_test)):\n",
    "        if y_test[i] == y_pred[i]:\n",
    "            if y_test[i] == 0:\n",
    "                count_00 += 1\n",
    "            else:\n",
    "                count_11 += 1\n",
    "        elif y_test[i] == 1:\n",
    "            count_10 += 1\n",
    "        else:\n",
    "            count_01 += 1\n",
    "    matrix = np.array([[count_00, count_01], [count_10, count_11]])\n",
    "    return matrix"
   ]
  },
  {
   "cell_type": "code",
   "execution_count": 30,
   "id": "7c0ba111",
   "metadata": {},
   "outputs": [
    {
     "name": "stdout",
     "output_type": "stream",
     "text": [
      "Confusion Matrix:\n",
      "[[ 4  1]\n",
      " [ 1 14]]\n",
      "\n",
      "Accuracy: 0.9\n",
      "\n",
      "Sensitivity: 0.9333333333333333\n",
      "\n",
      "Specificity: 0.8\n"
     ]
    }
   ],
   "source": [
    "# Confusion matrix and model efficiency\n",
    "\n",
    "print(\"Confusion Matrix:\")\n",
    "cm2 = confusion_scratch(y_test.tolist(), y_pred2)\n",
    "print(cm2)\n",
    "\n",
    "Accuracy = (cm2[0,0]+ cm2[1,1])/ (cm2[0,0]+ cm2[0,1] + cm2[1,0]+ cm2[1,1])\n",
    "print(\"\\nAccuracy: \" + str(Accuracy)) # accuracy as a metric\n",
    "\n",
    "Sensitivity = cm2[1,1]/(cm2[1,1] + cm2[0,1])\n",
    "print(\"\\nSensitivity: \" + str(Sensitivity)) \n",
    "\n",
    "Specificity = cm2[0,0]/(cm2[0,0] + cm2[1,0])\n",
    "print(\"\\nSpecificity: \" + str(Specificity))"
   ]
  },
  {
   "cell_type": "markdown",
   "id": "9ce9fe56",
   "metadata": {},
   "source": [
    "#### Identical results for both methods"
   ]
  },
  {
   "cell_type": "markdown",
   "id": "3675a9ca",
   "metadata": {},
   "source": [
    "### RNN using Scikit-learn"
   ]
  },
  {
   "cell_type": "code",
   "execution_count": 31,
   "id": "dd0ff668",
   "metadata": {},
   "outputs": [],
   "source": [
    "# Build the model\n",
    "from sklearn.neighbors import RadiusNeighborsClassifier\n",
    "\n",
    "# Radius value was chosen based on trial and error\n",
    "rnn = RadiusNeighborsClassifier(radius=0.7)\n",
    "rnn.fit(x_train, y_train)\n",
    "y_pred3 = rnn.predict(x_test)"
   ]
  },
  {
   "cell_type": "code",
   "execution_count": 32,
   "id": "c7d646af",
   "metadata": {},
   "outputs": [
    {
     "data": {
      "text/plain": [
       "array([ True,  True,  True,  True, False,  True,  True,  True,  True,\n",
       "        True,  True, False,  True,  True,  True, False, False,  True,\n",
       "       False, False])"
      ]
     },
     "execution_count": 32,
     "metadata": {},
     "output_type": "execute_result"
    }
   ],
   "source": [
    "y_pred3"
   ]
  },
  {
   "cell_type": "code",
   "execution_count": 33,
   "id": "ec391d04",
   "metadata": {},
   "outputs": [
    {
     "name": "stdout",
     "output_type": "stream",
     "text": [
      "Confusion Matrix:\n",
      "[[ 4  1]\n",
      " [ 2 13]]\n",
      "\n",
      "Accuracy: 0.85\n",
      "\n",
      "Sensitivity: 0.9285714285714286\n",
      "\n",
      "Specificity: 0.6666666666666666\n"
     ]
    }
   ],
   "source": [
    "# Confusion matrix and model efficiency\n",
    "\n",
    "print(\"Confusion Matrix:\")\n",
    "cm3 = confusion_matrix(y_test, y_pred3)\n",
    "print(cm3)\n",
    "\n",
    "Accuracy = (cm3[0,0]+ cm3[1,1])/ (cm3[0,0]+ cm3[0,1] + cm3[1,0]+ cm3[1,1])\n",
    "print(\"\\nAccuracy: \" + str(Accuracy)) # accuracy as a metric\n",
    "\n",
    "Sensitivity = cm3[1,1]/(cm3[1,1] + cm3[0,1])\n",
    "print(\"\\nSensitivity: \" + str(Sensitivity)) \n",
    "\n",
    "Specificity = cm3[0,0]/(cm3[0,0] + cm3[1,0])\n",
    "print(\"\\nSpecificity: \" + str(Specificity))"
   ]
  },
  {
   "cell_type": "markdown",
   "id": "78a73582",
   "metadata": {},
   "source": [
    "### RNN using Python from scratch"
   ]
  },
  {
   "cell_type": "code",
   "execution_count": 34,
   "id": "b7af5b89",
   "metadata": {},
   "outputs": [],
   "source": [
    "def rnn_predict(X_train, y_train, X_test, r):\n",
    "    y_pred = []\n",
    "    for i in range(len(X_test)):\n",
    "        distances = []\n",
    "        for j in range(len(X_train)):\n",
    "            dist = euclidean_distance(X_test.iloc[i], X_train.iloc[j])\n",
    "            if (dist <= r):\n",
    "                distances.append((dist, y_train.iloc[j]))\n",
    "        \n",
    "        r_nearest_labels = [label for (value, label) in distances]\n",
    "        most_common = max(set(r_nearest_labels), key=r_nearest_labels.count)\n",
    "        y_pred.append(most_common)\n",
    "    return y_pred"
   ]
  },
  {
   "cell_type": "code",
   "execution_count": 35,
   "id": "0190a3bc",
   "metadata": {},
   "outputs": [
    {
     "data": {
      "text/plain": [
       "[True,\n",
       " True,\n",
       " True,\n",
       " True,\n",
       " False,\n",
       " True,\n",
       " True,\n",
       " True,\n",
       " True,\n",
       " True,\n",
       " True,\n",
       " False,\n",
       " True,\n",
       " True,\n",
       " True,\n",
       " False,\n",
       " False,\n",
       " True,\n",
       " False,\n",
       " False]"
      ]
     },
     "execution_count": 35,
     "metadata": {},
     "output_type": "execute_result"
    }
   ],
   "source": [
    "y_pred4 = rnn_predict(x_train, y_train, x_test, 0.7)\n",
    "y_pred4"
   ]
  },
  {
   "cell_type": "code",
   "execution_count": 36,
   "id": "33171226",
   "metadata": {},
   "outputs": [
    {
     "name": "stdout",
     "output_type": "stream",
     "text": [
      "Confusion Matrix:\n",
      "[[ 4  1]\n",
      " [ 2 13]]\n",
      "\n",
      "Accuracy: 0.85\n",
      "\n",
      "Sensitivity: 0.9285714285714286\n",
      "\n",
      "Specificity: 0.6666666666666666\n"
     ]
    }
   ],
   "source": [
    "# Confusion matrix and model efficiency\n",
    "\n",
    "print(\"Confusion Matrix:\")\n",
    "cm4 = confusion_scratch(y_test.tolist(), y_pred4)\n",
    "print(cm4)\n",
    "\n",
    "Accuracy = (cm4[0,0]+ cm4[1,1])/ (cm4[0,0]+ cm4[0,1] + cm4[1,0]+ cm4[1,1])\n",
    "print(\"\\nAccuracy: \" + str(Accuracy)) # accuracy as a metric\n",
    "\n",
    "Sensitivity = cm4[1,1]/(cm4[1,1] + cm4[0,1])\n",
    "print(\"\\nSensitivity: \" + str(Sensitivity)) \n",
    "\n",
    "Specificity = cm4[0,0]/(cm4[0,0] + cm4[1,0])\n",
    "print(\"\\nSpecificity: \" + str(Specificity))"
   ]
  },
  {
   "cell_type": "code",
   "execution_count": 37,
   "id": "aa1b0520",
   "metadata": {},
   "outputs": [
    {
     "data": {
      "text/plain": [
       "[True,\n",
       " True,\n",
       " True,\n",
       " True,\n",
       " True,\n",
       " True,\n",
       " True,\n",
       " True,\n",
       " True,\n",
       " True,\n",
       " True,\n",
       " False,\n",
       " True,\n",
       " True,\n",
       " True,\n",
       " False,\n",
       " False,\n",
       " True,\n",
       " False,\n",
       " False]"
      ]
     },
     "execution_count": 37,
     "metadata": {},
     "output_type": "execute_result"
    }
   ],
   "source": [
    "# Try different radius value\n",
    "y_pred4 = rnn_predict(x_train, y_train, x_test, 0.8)\n",
    "y_pred4"
   ]
  },
  {
   "cell_type": "code",
   "execution_count": 38,
   "id": "ac69fb3f",
   "metadata": {},
   "outputs": [
    {
     "name": "stdout",
     "output_type": "stream",
     "text": [
      "Confusion Matrix:\n",
      "[[ 4  1]\n",
      " [ 1 14]]\n",
      "\n",
      "Accuracy: 0.9\n",
      "\n",
      "Sensitivity: 0.9333333333333333\n",
      "\n",
      "Specificity: 0.8\n"
     ]
    }
   ],
   "source": [
    "# Confusion matrix and model efficiency\n",
    "\n",
    "print(\"Confusion Matrix:\")\n",
    "cm4 = confusion_scratch(y_test.tolist(), y_pred4)\n",
    "print(cm4)\n",
    "\n",
    "Accuracy = (cm4[0,0]+ cm4[1,1])/ (cm4[0,0]+ cm4[0,1] + cm4[1,0]+ cm4[1,1])\n",
    "print(\"\\nAccuracy: \" + str(Accuracy)) # accuracy as a metric\n",
    "\n",
    "Sensitivity = cm4[1,1]/(cm4[1,1] + cm4[0,1])\n",
    "print(\"\\nSensitivity: \" + str(Sensitivity)) \n",
    "\n",
    "Specificity = cm4[0,0]/(cm4[0,0] + cm4[1,0])\n",
    "print(\"\\nSpecificity: \" + str(Specificity))"
   ]
  },
  {
   "cell_type": "markdown",
   "id": "5ca8d3d2",
   "metadata": {},
   "source": [
    "#### Model efficiency improved"
   ]
  },
  {
   "cell_type": "markdown",
   "id": "10493b50",
   "metadata": {},
   "source": [
    "### Both KNN and RNN showed very similar -if not identical- results. However, KNN model was much easier in choosing the K value than the RNN model in choosing the R value as the K value depends on the size of the dataset which is easier to find than the magnitude and the distribution of the dataset values required for choosing a proper R value."
   ]
  }
 ],
 "metadata": {
  "kernelspec": {
   "display_name": "Python 3 (ipykernel)",
   "language": "python",
   "name": "python3"
  },
  "language_info": {
   "codemirror_mode": {
    "name": "ipython",
    "version": 3
   },
   "file_extension": ".py",
   "mimetype": "text/x-python",
   "name": "python",
   "nbconvert_exporter": "python",
   "pygments_lexer": "ipython3",
   "version": "3.10.12"
  }
 },
 "nbformat": 4,
 "nbformat_minor": 5
}
